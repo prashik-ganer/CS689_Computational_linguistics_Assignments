{
 "cells": [
  {
   "cell_type": "code",
   "execution_count": 2,
   "metadata": {
    "colab": {
     "base_uri": "https://localhost:8080/",
     "height": 176
    },
    "id": "11XQfaFJSGRT",
    "outputId": "9457639d-ccda-4f68-f706-07a37c0d5dde"
   },
   "outputs": [],
   "source": [
    "with open('hi_100.txt', 'r', encoding='utf-8') as file:\n",
    "    contents = file.read()\n",
    "# print(contents)"
   ]
  },
  {
   "cell_type": "code",
   "execution_count": 3,
   "metadata": {
    "id": "xLjJbYDSlZC9"
   },
   "outputs": [],
   "source": [
    "hindi_vowels = ['अ', 'आ', 'इ', 'ई', 'उ', 'ऊ', 'ऋ', 'ए', 'ऐ', 'ओ', 'औ', 'अं', 'अः', 'अँ']\n",
    "matra = ['ा', 'ि', 'ी', 'ु', 'ू', 'े', 'ो', 'ै', 'ौ', 'ृ', 'ॄ', 'ॉ', 'ं','्','ँ']\n",
    "hindi_consonants = [\n",
    "    'क', 'ख', 'ग', 'घ', 'ङ', 'च', 'छ', 'ज', 'झ', 'ञ',\n",
    "    'ट', 'ठ', 'ड', 'ढ', 'ण', 'त', 'थ', 'द', 'ध', 'न',\n",
    "    'प', 'फ', 'ब', 'भ', 'म', 'य', 'र', 'ल', 'व', 'श',\n",
    "    'ष', 'स', 'ह', 'ळ', 'क्ष', 'ज्ञ'\n",
    "]\n",
    "mapping = {'ा': 'आ', 'ि': 'इ', 'ी': 'ई', 'ु': 'उ', 'ू': 'ऊ', 'ृ': 'ऋ', 'ॄ': 'ॠ', 'ॅ': 'ऍ', 'े': 'ए', 'ै': 'ऐ', 'ो': 'ओ', 'ौ': 'औ', 'ं': 'अं', 'ः': 'अः', 'ँ': 'अँ'}\n",
    "new_corpus = []"
   ]
  },
  {
   "cell_type": "markdown",
   "metadata": {},
   "source": [
    "## FINDING CHARACTERS:"
   ]
  },
  {
   "cell_type": "code",
   "execution_count": 4,
   "metadata": {
    "colab": {
     "base_uri": "https://localhost:8080/"
    },
    "id": "RPCRmHRhnrwU",
    "outputId": "b56de3a6-2398-41f4-af81-689c78ad52b4"
   },
   "outputs": [],
   "source": [
    "#Get characters\n",
    "s = []\n",
    "new_corpus = []\n",
    "for word in contents:\n",
    "    if word in hindi_vowels: s.append(word)\n",
    "    elif word in hindi_consonants:\n",
    "        s.append(word + '्')\n",
    "        s.append('अ')\n",
    "    elif len(s) and word in matra:\n",
    "        if s[-1]=='अ': s.pop()\n",
    "        if mapping.get(word) is not None:\n",
    "            s.append(mapping.get(word))\n",
    "    else:\n",
    "        if len(s):\n",
    "            new_corpus.append(s)\n",
    "        s = []\n",
    "# print(new_corpus)"
   ]
  },
  {
   "cell_type": "markdown",
   "metadata": {},
   "source": [
    "## FINDING SYLLABLES:"
   ]
  },
  {
   "cell_type": "code",
   "execution_count": 5,
   "metadata": {
    "colab": {
     "base_uri": "https://localhost:8080/"
    },
    "id": "h1ZvvW-hv9q1",
    "outputId": "853096fb-a93f-4aa8-a939-c22b7d6f06f8"
   },
   "outputs": [],
   "source": [
    "#Get syllables\n",
    "s = \"\"\n",
    "temp = []\n",
    "syllable = []\n",
    "for word in contents:\n",
    "    if word in hindi_consonants:\n",
    "        if(len(s) and s[-1]!='्'):\n",
    "            temp.append(s)\n",
    "            s = \"\"\n",
    "        s = s + word\n",
    "    elif word in hindi_vowels:\n",
    "        s = s + word\n",
    "        temp.append(s)\n",
    "        s = \"\"\n",
    "    elif (word in matra) :\n",
    "        if(len(s) and s[-1] in matra):\n",
    "            temp.append(s)\n",
    "            temp.append(mapping.get(word))\n",
    "            s = \"\"\n",
    "        else: s = s + word\n",
    "    else:\n",
    "        if len(s):\n",
    "            temp.append(s)\n",
    "            syllable.append(temp)\n",
    "        temp = []\n",
    "        s = \"\"\n",
    "# print(syllable)"
   ]
  },
  {
   "cell_type": "markdown",
   "metadata": {},
   "source": [
    "## FREQUENCY OF TOP 20 UNIGRAM CHARACTERS:"
   ]
  },
  {
   "cell_type": "code",
   "execution_count": 9,
   "metadata": {
    "colab": {
     "base_uri": "https://localhost:8080/"
    },
    "id": "-O6tkYE328I6",
    "outputId": "fea330f7-cbc9-46f2-c5e0-9ae876b2de3f"
   },
   "outputs": [
    {
     "name": "stdout",
     "output_type": "stream",
     "text": [
      "[('अ', 7084096), ('आ', 2963086), ('ए', 2301148), ('क्', 2219964), ('र्', 2115649), ('ई', 1441615), ('इ', 1424881), ('न्', 1334448), ('स्', 1283708), ('अं', 1195232), ('ह्', 1133159), ('म्', 1053237), ('त्', 980066), ('ल्', 919917), ('ओ', 891086), ('प्', 805896), ('य्', 752819), ('व्', 624743), ('द्', 607633), ('उ', 586178)]\n"
     ]
    }
   ],
   "source": [
    "#unigram for Characters\n",
    "char_freq = {}\n",
    "for word in new_corpus:\n",
    "    for ch in word:\n",
    "        if ch in char_freq:\n",
    "            char_freq[ch] += 1\n",
    "        else:\n",
    "            char_freq[ch] = 1\n",
    "sorted_dict = sorted(char_freq.items(), key=lambda item: item[1], reverse = True)\n",
    "print(sorted_dict[:20])"
   ]
  },
  {
   "cell_type": "markdown",
   "metadata": {},
   "source": [
    "## FREQUENCY OF TOP 20 UNIGRAM SYLLABLES:"
   ]
  },
  {
   "cell_type": "code",
   "execution_count": 10,
   "metadata": {
    "colab": {
     "base_uri": "https://localhost:8080/"
    },
    "id": "B5UXYnGRlE4c",
    "outputId": "5846e4d3-8f92-4484-fcae-888118595d10"
   },
   "outputs": [
    {
     "name": "stdout",
     "output_type": "stream",
     "text": [
      "[('र', 991710), ('क', 567852), ('स', 459624), ('न', 437912), ('के', 402595), ('प', 373149), ('ने', 325412), ('ल', 317792), ('त', 305182), ('का', 290600), ('म', 280145), ('ह', 268675), ('अ', 239793), ('की', 233569), ('अं', 228660), ('ब', 226379), ('है', 216669), ('या', 213732), ('से', 213274), ('ज', 202000)]\n"
     ]
    }
   ],
   "source": [
    "#unigram for Syllable\n",
    "syll_freq = {}\n",
    "for word in syllable:\n",
    "    for ch in word:\n",
    "        if ch in syll_freq:\n",
    "            syll_freq[ch] += 1\n",
    "        else:\n",
    "            syll_freq[ch] = 1\n",
    "sorted_dict = sorted(syll_freq.items(), key=lambda item: item[1], reverse = True)\n",
    "print(sorted_dict[:20])"
   ]
  },
  {
   "cell_type": "markdown",
   "metadata": {},
   "source": [
    "## FREQUENCY OF TOP 20 BIGRAM CHARACTERS:"
   ]
  },
  {
   "cell_type": "code",
   "execution_count": 11,
   "metadata": {
    "colab": {
     "base_uri": "https://localhost:8080/"
    },
    "id": "PzK2nPfsqVuF",
    "outputId": "f73fdaee-2376-4cde-afcd-5155fadc03f7"
   },
   "outputs": [
    {
     "name": "stdout",
     "output_type": "stream",
     "text": [
      "[('र्अ', 1170006), ('अर्', 781795), ('क्अ', 610700), ('स्अ', 517942), ('न्अ', 515115), ('अन्', 427035), ('क्ए', 407130), ('प्अ', 403751), ('अह्', 389906), ('आर्', 367460), ('एअं', 357436), ('त्अ', 354072), ('अक्', 339804), ('ल्अ', 329307), ('न्ए', 328967), ('म्अ', 322916), ('क्आ', 314321), ('अत्', 301354), ('य्आ', 297778), ('ह्ऐ', 297199)]\n"
     ]
    }
   ],
   "source": [
    "#bigram for characters\n",
    "bigram_ch = {}\n",
    "for word in new_corpus:\n",
    "    for i in range (0, len(word)-1):\n",
    "        if (word[i]+word[i+1]) in bigram_ch:\n",
    "            bigram_ch[word[i]+word[i+1]] += 1\n",
    "        else:\n",
    "            bigram_ch[word[i]+word[i+1]] = 1\n",
    "sorted_dict = sorted(bigram_ch.items(), key=lambda item: item[1], reverse = True)\n",
    "print(sorted_dict[:20])"
   ]
  },
  {
   "cell_type": "markdown",
   "metadata": {},
   "source": [
    "## FREQUENCY OF TOP 20 BIGRAM SYLLABLES:"
   ]
  },
  {
   "cell_type": "code",
   "execution_count": 12,
   "metadata": {
    "colab": {
     "base_uri": "https://localhost:8080/"
    },
    "id": "HPJCZoBhGZSS",
    "outputId": "01a8d366-5d29-4c8b-d4ca-e526c92302f0"
   },
   "outputs": [
    {
     "name": "stdout",
     "output_type": "stream",
     "text": [
      "[('कर', 158825), ('और', 115297), ('पर', 99505), ('इस', 73872), ('एक', 54205), ('अप', 43753), ('कार', 38246), ('किया', 36969), ('रने', 34453), ('कहा', 31784), ('यह', 31397), ('गया', 30277), ('सर', 29267), ('आप', 28662), ('साथ', 27719), ('बाद', 27381), ('उन', 26847), ('देश', 25836), ('सके', 25835), ('उस', 25172)]\n"
     ]
    }
   ],
   "source": [
    "#bigram for syllable\n",
    "bigram_syl = {}\n",
    "for word in syllable:\n",
    "    for i in range (0, len(word)-1):\n",
    "        if word[i] is None or word[i+1] is None: continue\n",
    "        if (word[i]+word[i+1]) in bigram_syl:\n",
    "            bigram_syl[word[i]+word[i+1]] += 1\n",
    "        else:\n",
    "            bigram_syl[word[i]+word[i+1]] = 1\n",
    "sorted_dict = sorted(bigram_syl.items(), key=lambda item: item[1], reverse = True)\n",
    "print(sorted_dict[:20])"
   ]
  }
 ],
 "metadata": {
  "colab": {
   "provenance": []
  },
  "kernelspec": {
   "display_name": "Python 3 (ipykernel)",
   "language": "python",
   "name": "python3"
  },
  "language_info": {
   "codemirror_mode": {
    "name": "ipython",
    "version": 3
   },
   "file_extension": ".py",
   "mimetype": "text/x-python",
   "name": "python",
   "nbconvert_exporter": "python",
   "pygments_lexer": "ipython3",
   "version": "3.11.5"
  }
 },
 "nbformat": 4,
 "nbformat_minor": 1
}
